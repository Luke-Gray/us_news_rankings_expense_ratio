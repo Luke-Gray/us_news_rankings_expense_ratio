{
 "cells": [
  {
   "cell_type": "code",
   "execution_count": null,
   "metadata": {},
   "outputs": [],
   "source": [
    "from selenium import webdriver\n",
    "from selenium.webdriver.common.by import By\n",
    "from selenium.webdriver.support.ui import WebDriverWait\n",
    "from selenium.webdriver.support import expected_conditions as EC\n",
    "from selenium.webdriver.common.keys import Keys\n",
    "import time, sys\n",
    "from selenium.webdriver.common.action_chains import ActionChains\n",
    "import csv\n",
    "import re\n",
    "from pathlib import Path\n",
    "\n",
    "class myScraper(object):\n",
    "\tdef __init__(self):\n",
    "\t\tself.csv_file = open(Path(\"data\",'ranks_expense.csv'), 'w', encoding='utf-8', newline='')\n",
    "\t\tself.writer = csv.writer(self.csv_file)\n",
    "\t\tself.writer.writerow(['fund_name', 'fund_rank', 'expense_ratio', 'total_assets', 'url'])\n",
    "\t\tself.patience_time = 20\n",
    "\t\tself.driver = webdriver.Chrome()\n",
    "\t\tself.actions = ActionChains(self.driver)\n",
    "\n",
    "\tdef scrape(self):\n",
    "\t\tself.break_bool = True\n",
    "\t\tself.find_url()\n",
    "\t\tif self.break_bool:\n",
    "\t\t\tself.scrollToPopup()\n",
    "\t\tif self.break_bool:\n",
    "\t\t\tself.scrollMore()\n",
    "\t\tif self.break_bool:\n",
    "\t\t\tself.scrapeCols()\n",
    "\n",
    "\tdef __del__(self):\n",
    "\t\tself.driver.quit()\n",
    "\n",
    "\tdef wait_for_load(self,inputXPath):\n",
    "\t\tWait = WebDriverWait(self.driver, self.patience_time)\n",
    "\t\tWait.until(EC.presence_of_element_located((By.XPATH, inputXPath)))\n",
    "\t\n",
    "\tdef wait_for_load_css(self,inputCss):\n",
    "\t\tWait = WebDriverWait(self.driver, 10)\n",
    "\t\tWait.until(EC.presence_of_all_elements_located((By.CSS_SELECTOR, inputCss)))\n",
    "\n",
    "\n",
    "\tdef find_url(self):\n",
    "\t\tself.driver.get(\"https://money.usnews.com/funds/mutual-funds/rankings/large-growth\")\n",
    "\n",
    "\n",
    "\tdef scrollToPopup(self):\n",
    "\t\twait = WebDriverWait(self.driver, 1)\n",
    "\t\tlast_height = self.driver.execute_script(\"return document.body.scrollHeight\")\n",
    "\t\twhile True:\n",
    "\t\t\ttime.sleep(1)\n",
    "\t\t\tself.driver.execute_script(\"window.scrollTo(0, document.body.scrollHeight)\") \n",
    "\t\t\ttime.sleep(0.5)\n",
    "\t\t\ttry:\n",
    "\t\t\t\telement = wait.until(EC.presence_of_element_located((By.CLASS_NAME,'close-reveal-modal')))\n",
    "\t\t\texcept:\n",
    "\t\t\t\telement = \"\"\n",
    "\t\t\tprint(element)\n",
    "\t\t\tif element != \"\":\n",
    "\t\t\t\telement.click()\n",
    "\t\t\t\tbreak\n",
    "\t\t\telse:\n",
    "\t\t\t\tnew_height = self.driver.execute_script(\"return document.body.scrollHeight\")\n",
    "\t\t\t\tif new_height == last_height:\n",
    "\t\t\t\t\tbreak\n",
    "\t\t\t\tlast_height = new_height\n",
    "\n",
    "\n",
    "\tdef scrollMore(self):\n",
    "\t\tclicks  = 0\n",
    "\t\tload_more_button_exist = True\n",
    "\t\twhile load_more_button_exist and (clicks <= 30):\n",
    "\t\t\ttry:\n",
    "\t\t\t\ttime.sleep(1)\n",
    "\t\t\t\tself.wait_for_load('//div[@id=\"search-app-matches-more-button-region\"]')\n",
    "\t\t\t\t# WebDriverWait(self.driver, patience_time)\n",
    "\t\t\t\tload_more_button = self.driver.find_element_by_xpath('//div[@id=\"search-app-matches-more-button-region\"]')\n",
    "\t\t\t\tload_more_button.click()\n",
    "\t\t\t\ttime.sleep(3)\n",
    "\t\t\t\tclicks = clicks + 1\n",
    "\t\t\t\tprint(clicks)\n",
    "\t\t\t\t\n",
    "\t\t\texcept:\n",
    "\t\t\t\ttime.sleep(2)\n",
    "\t\t\t\tprint('done scrolling')\n",
    "\t\t\t\t# continue\n",
    "\t\t\t\tload_more_button_exist = False\n",
    "\t\t\t\tself.driver.close()\n",
    "\t\t\t\tself.break_bool = False\n",
    "\t\t\t\tbreak\n",
    "\n",
    "\t\t\t\t\n",
    "\tdef scrapeCols(self):\n",
    "\t\tprint(\"I AM HERE!!!!!!\")\n",
    "\t\twhile True:\n",
    "\t\t\ttry:   \n",
    "\t\t\t\twait_block = WebDriverWait(self.driver, 20) \n",
    "\t\t\t\tfunds_block = wait_block.until(EC.presence_of_all_elements_located((By.CSS_SELECTOR,'li.search-match-card-view'))) \n",
    "\t\t\t\t# print(\"I AM HERE2!!!!!!\", funds_block)\n",
    "\t\t\t\tfor fund_info in funds_block:\n",
    "\t\t\t\t\tfund_dict = {}\n",
    "\t\t\t\t\tprint(\"I AM HERE #3\")\n",
    "\t\t\t\t\t# try:\n",
    "\t\t\t\t\t# time.sleep(0.5)\n",
    "\t\t\t\t\tname = fund_info.find_element_by_css_selector('a.search-result-link').text\n",
    "\t\t\t\t\tprint(name)\n",
    "\t\t\t\t\turl = fund_info.find_element_by_css_selector('a.search-result-link').get_attribute('href')\n",
    "\t\t\t\t\tprint(url)\t\n",
    "\t\t\t\t\t# except:\n",
    "\t\t\t\t\t# \tcontinue\n",
    "\t\t\t\t\t\t\n",
    "\t\t\t\t\t# time.sleep(0.5)\n",
    "\t\t\t\t\ttotal_assets = fund_info.find_element_by_xpath('.//dt[@class=\"heading-light bar-tighter\"][3]').text\n",
    "\t\t\t\t\t# time.sleep(0.5)\n",
    "\t\t\t\t\texpense_ratio = fund_info.find_element_by_xpath('.//dt[@class=\"heading-light bar-tighter\"][2]').text\n",
    "\t\t\t\t\t# time.sleep(0.5)\n",
    "\t\t\t\t\tfund_rank = fund_info.find_element_by_css_selector('span.text-normal').text\n",
    "\t\t\t\t\t# time.sleep(0.5)\n",
    "\t\t\t\t\t\n",
    "\t\t\t\t\t\n",
    "\t\t\t\t\tfund_dict['fund_name'] = name\n",
    "\t\t\t\t\tfund_dict['fund_rank'] = fund_rank\n",
    "\t\t\t\t\tfund_dict['expense_ratio'] = expense_ratio\n",
    "\t\t\t\t\tfund_dict['total_assets'] = total_assets\n",
    "\t\t\t\t\tfund_dict['url'] = url\n",
    "\t\t\t\t\tprint(fund_dict)\n",
    "\t\t\t\t\tself.writer.writerow(fund_dict.values())\n",
    "\n",
    "\t\t\t\tbreak\t\t\t\t\n",
    "\t\t\t\n",
    "\t\t\texcept Exception as e:\n",
    "\t\t\t\tprint(e)\n",
    "\t\t\t\tself.driver.close()\n",
    "\t\t\t\tself.break_bool = False\n",
    "\t\t\t\tbreak\n",
    "\n",
    "\n",
    "\n",
    "\n",
    "\n",
    "\n",
    "\n",
    "\n",
    "\n",
    "\n",
    "if __name__ == \"__main__\":\n",
    "\tmyscraper = myScraper()\n",
    "\tmyscraper.scrape()\n",
    "\tdel myscraper"
   ]
  },
  {
   "cell_type": "code",
   "execution_count": null,
   "metadata": {},
   "outputs": [],
   "source": [
    "import pandas as pd\n",
    "import numpy as np\n",
    "\n",
    "funds = pd.read_csv('C:\\\\Users\\\\16507\\\\Desktop\\\\Bootcamp\\\\chromedriver_win32\\\\data\\\\ranks_expense.csv', sep=r'\\s*,\\s*', encoding='utf-8', engine='python')\n",
    "funds = pd.DataFrame(data=funds)\n",
    "urls = funds['url']\n",
    "\n",
    "csv_file = open(Path(\"data\",'url_data.csv'), 'w', encoding='utf-8', newline='')\n",
    "writer = csv.writer(csv_file)\n",
    "writer.writerow(['ticker', 'expense_profile', 'risk_profile'])\n",
    "driver = webdriver.Chrome()\n",
    "\n",
    "\n",
    "\n",
    "while True:\n",
    "    try:\n",
    "        for url in urls:\n",
    "            funds_dict = {}\n",
    "            driver.get(url)\n",
    "            try:\n",
    "                driver.implicitly_wait(3)\n",
    "                # name = driver.find_element_by_css_selector('h1.hero-heading').text\n",
    "                ticker = driver.find_element_by_css_selector('span.dropdown-arrow').text\n",
    "                expense_words = driver.find_element_by_xpath('//*[@id=\"content-main\"]/div[1]/section[7]/p[2]/strong').text\n",
    "                risk_words = driver.find_element_by_xpath('//*[@id=\"content-main\"]/div[1]/section[8]/p[2]/strong').text\n",
    "                # performance = driver.find_element_by_xpath('//*[@id=\"content-main\"]/div[1]/section[6]/p[2]').text\n",
    "\n",
    "                # print(name)\n",
    "\n",
    "                # funds_dict['name'] = name\n",
    "                funds_dict['ticker'] = ticker\n",
    "                # funds_dict['performance'] = performance\n",
    "                funds_dict['expense_profile'] = expense_words\n",
    "                funds_dict['risk_profile'] = risk_words\n",
    "\n",
    "                writer.writerow(funds_dict.values())\n",
    "            except NoSuchElementException:\n",
    "                continue \n",
    "            \n",
    "\n",
    "    except Exception as e:\n",
    "        print(e)\n",
    "        driver.close()\n",
    "        break\n",
    "\n",
    "\n",
    "\n",
    "\n",
    "\n",
    "\t\t\t"
   ]
  },
  {
   "cell_type": "code",
   "execution_count": 66,
   "metadata": {},
   "outputs": [],
   "source": [
    "import pandas as pd\n",
    "import numpy as np\n",
    "import re\n",
    "import matplotlib as plt"
   ]
  },
  {
   "cell_type": "code",
   "execution_count": 67,
   "metadata": {},
   "outputs": [
    {
     "data": {
      "text/html": [
       "<div>\n",
       "<style scoped>\n",
       "    .dataframe tbody tr th:only-of-type {\n",
       "        vertical-align: middle;\n",
       "    }\n",
       "\n",
       "    .dataframe tbody tr th {\n",
       "        vertical-align: top;\n",
       "    }\n",
       "\n",
       "    .dataframe thead th {\n",
       "        text-align: right;\n",
       "    }\n",
       "</style>\n",
       "<table border=\"1\" class=\"dataframe\">\n",
       "  <thead>\n",
       "    <tr style=\"text-align: right;\">\n",
       "      <th></th>\n",
       "      <th>fund_name</th>\n",
       "      <th>fund_rank</th>\n",
       "      <th>expense_ratio</th>\n",
       "      <th>total_assets</th>\n",
       "      <th>url</th>\n",
       "    </tr>\n",
       "  </thead>\n",
       "  <tbody>\n",
       "    <tr>\n",
       "      <th>0</th>\n",
       "      <td>T. Rowe Price Instl Large Cap Core Gr Fd</td>\n",
       "      <td>1.0</td>\n",
       "      <td>0.56</td>\n",
       "      <td>$4.02B</td>\n",
       "      <td>https://money.usnews.com/funds/mutual-funds/la...</td>\n",
       "    </tr>\n",
       "    <tr>\n",
       "      <th>1</th>\n",
       "      <td>T. Rowe Price Tax-Efficient Equity Fund</td>\n",
       "      <td>2.0</td>\n",
       "      <td>0.78</td>\n",
       "      <td>$506.10M</td>\n",
       "      <td>https://money.usnews.com/funds/mutual-funds/la...</td>\n",
       "    </tr>\n",
       "    <tr>\n",
       "      <th>2</th>\n",
       "      <td>Morgan Stanley Inst Advantage Port</td>\n",
       "      <td>3.0</td>\n",
       "      <td>1.20</td>\n",
       "      <td>$389.56M</td>\n",
       "      <td>https://money.usnews.com/funds/mutual-funds/la...</td>\n",
       "    </tr>\n",
       "    <tr>\n",
       "      <th>3</th>\n",
       "      <td>William Blair Large Cap Growth Fund</td>\n",
       "      <td>4.0</td>\n",
       "      <td>0.65</td>\n",
       "      <td>$228.65M</td>\n",
       "      <td>https://money.usnews.com/funds/mutual-funds/la...</td>\n",
       "    </tr>\n",
       "    <tr>\n",
       "      <th>4</th>\n",
       "      <td>Franklin DynaTech Fund</td>\n",
       "      <td>5.0</td>\n",
       "      <td>0.87</td>\n",
       "      <td>$7.89B</td>\n",
       "      <td>https://money.usnews.com/funds/mutual-funds/la...</td>\n",
       "    </tr>\n",
       "  </tbody>\n",
       "</table>\n",
       "</div>"
      ],
      "text/plain": [
       "                                  fund_name  fund_rank  expense_ratio  \\\n",
       "0  T. Rowe Price Instl Large Cap Core Gr Fd        1.0           0.56   \n",
       "1   T. Rowe Price Tax-Efficient Equity Fund        2.0           0.78   \n",
       "2        Morgan Stanley Inst Advantage Port        3.0           1.20   \n",
       "3       William Blair Large Cap Growth Fund        4.0           0.65   \n",
       "4                    Franklin DynaTech Fund        5.0           0.87   \n",
       "\n",
       "  total_assets                                                url  \n",
       "0       $4.02B  https://money.usnews.com/funds/mutual-funds/la...  \n",
       "1     $506.10M  https://money.usnews.com/funds/mutual-funds/la...  \n",
       "2     $389.56M  https://money.usnews.com/funds/mutual-funds/la...  \n",
       "3     $228.65M  https://money.usnews.com/funds/mutual-funds/la...  \n",
       "4       $7.89B  https://money.usnews.com/funds/mutual-funds/la...  "
      ]
     },
     "execution_count": 67,
     "metadata": {},
     "output_type": "execute_result"
    }
   ],
   "source": [
    "funds = pd.read_csv('C:\\\\Users\\\\16507\\\\Desktop\\\\Bootcamp\\\\chromedriver_win32\\\\data\\\\ranks_expense.csv', sep=r'\\s*,\\s*', encoding='utf-8', engine='python')\n",
    "funds = pd.DataFrame(data=funds)\n",
    "funds.head()"
   ]
  },
  {
   "cell_type": "code",
   "execution_count": 106,
   "metadata": {},
   "outputs": [
    {
     "name": "stdout",
     "output_type": "stream",
     "text": [
      "                                  fund_name ticker expense_profile  \\\n",
      "0  T. Rowe Price Instl Large Cap Core Gr Fd  TPLGX   Below Average   \n",
      "1   T. Rowe Price Tax-Efficient Equity Fund  PREFX   Below Average   \n",
      "2        Morgan Stanley Inst Advantage Port  MAPPX         Average   \n",
      "3       William Blair Large Cap Growth Fund  LCGFX   Below Average   \n",
      "4                    Franklin DynaTech Fund    NaN             NaN   \n",
      "\n",
      "    risk_profile  \n",
      "0           High  \n",
      "1  Above Average  \n",
      "2           High  \n",
      "3           High  \n",
      "4            NaN  \n"
     ]
    }
   ],
   "source": [
    "funds_2 = pd.read_csv('C:\\\\Users\\\\16507\\\\Desktop\\\\Bootcamp\\\\chromedriver_win32\\\\data\\\\url_data.csv', sep=r'\\s*,\\s*', encoding='utf-8', engine='python')\n",
    "funds_2 = pd.DataFrame(data = funds_2)\n",
    "funds_2.head()\n",
    "funds_2.set_index('fund_name')\n",
    "funds.set_index('fund_name')\n",
    "print(funds_2.head(5))"
   ]
  },
  {
   "cell_type": "code",
   "execution_count": 107,
   "metadata": {},
   "outputs": [
    {
     "name": "stdout",
     "output_type": "stream",
     "text": [
      "(283, 5)\n",
      "(283, 4)\n"
     ]
    }
   ],
   "source": [
    "print(funds.shape)\n",
    "print(funds_2.shape)"
   ]
  },
  {
   "cell_type": "code",
   "execution_count": 134,
   "metadata": {},
   "outputs": [
    {
     "data": {
      "text/html": [
       "<div>\n",
       "<style scoped>\n",
       "    .dataframe tbody tr th:only-of-type {\n",
       "        vertical-align: middle;\n",
       "    }\n",
       "\n",
       "    .dataframe tbody tr th {\n",
       "        vertical-align: top;\n",
       "    }\n",
       "\n",
       "    .dataframe thead th {\n",
       "        text-align: right;\n",
       "    }\n",
       "</style>\n",
       "<table border=\"1\" class=\"dataframe\">\n",
       "  <thead>\n",
       "    <tr style=\"text-align: right;\">\n",
       "      <th></th>\n",
       "      <th>fund_name</th>\n",
       "      <th>fund_rank</th>\n",
       "      <th>expense_ratio</th>\n",
       "      <th>total_assets</th>\n",
       "      <th>url</th>\n",
       "      <th>fund_name</th>\n",
       "      <th>ticker</th>\n",
       "      <th>expense_profile</th>\n",
       "      <th>risk_profile</th>\n",
       "    </tr>\n",
       "  </thead>\n",
       "  <tbody>\n",
       "    <tr>\n",
       "      <th>0</th>\n",
       "      <td>T. Rowe Price Instl Large Cap Core Gr Fd</td>\n",
       "      <td>1.0</td>\n",
       "      <td>0.56</td>\n",
       "      <td>$4.02B</td>\n",
       "      <td>https://money.usnews.com/funds/mutual-funds/la...</td>\n",
       "      <td>T. Rowe Price Instl Large Cap Core Gr Fd</td>\n",
       "      <td>TPLGX</td>\n",
       "      <td>Below Average</td>\n",
       "      <td>High</td>\n",
       "    </tr>\n",
       "    <tr>\n",
       "      <th>1</th>\n",
       "      <td>T. Rowe Price Tax-Efficient Equity Fund</td>\n",
       "      <td>2.0</td>\n",
       "      <td>0.78</td>\n",
       "      <td>$506.10M</td>\n",
       "      <td>https://money.usnews.com/funds/mutual-funds/la...</td>\n",
       "      <td>T. Rowe Price Tax-Efficient Equity Fund</td>\n",
       "      <td>PREFX</td>\n",
       "      <td>Below Average</td>\n",
       "      <td>Above Average</td>\n",
       "    </tr>\n",
       "    <tr>\n",
       "      <th>2</th>\n",
       "      <td>Morgan Stanley Inst Advantage Port</td>\n",
       "      <td>3.0</td>\n",
       "      <td>1.20</td>\n",
       "      <td>$389.56M</td>\n",
       "      <td>https://money.usnews.com/funds/mutual-funds/la...</td>\n",
       "      <td>Morgan Stanley Inst Advantage Port</td>\n",
       "      <td>MAPPX</td>\n",
       "      <td>Average</td>\n",
       "      <td>High</td>\n",
       "    </tr>\n",
       "    <tr>\n",
       "      <th>3</th>\n",
       "      <td>William Blair Large Cap Growth Fund</td>\n",
       "      <td>4.0</td>\n",
       "      <td>0.65</td>\n",
       "      <td>$228.65M</td>\n",
       "      <td>https://money.usnews.com/funds/mutual-funds/la...</td>\n",
       "      <td>William Blair Large Cap Growth Fund</td>\n",
       "      <td>LCGFX</td>\n",
       "      <td>Below Average</td>\n",
       "      <td>High</td>\n",
       "    </tr>\n",
       "    <tr>\n",
       "      <th>4</th>\n",
       "      <td>Franklin DynaTech Fund</td>\n",
       "      <td>5.0</td>\n",
       "      <td>0.87</td>\n",
       "      <td>$7.89B</td>\n",
       "      <td>https://money.usnews.com/funds/mutual-funds/la...</td>\n",
       "      <td>Franklin DynaTech Fund</td>\n",
       "      <td>NaN</td>\n",
       "      <td>NaN</td>\n",
       "      <td>NaN</td>\n",
       "    </tr>\n",
       "  </tbody>\n",
       "</table>\n",
       "</div>"
      ],
      "text/plain": [
       "                                  fund_name  fund_rank  expense_ratio  \\\n",
       "0  T. Rowe Price Instl Large Cap Core Gr Fd        1.0           0.56   \n",
       "1   T. Rowe Price Tax-Efficient Equity Fund        2.0           0.78   \n",
       "2        Morgan Stanley Inst Advantage Port        3.0           1.20   \n",
       "3       William Blair Large Cap Growth Fund        4.0           0.65   \n",
       "4                    Franklin DynaTech Fund        5.0           0.87   \n",
       "\n",
       "  total_assets                                                url  \\\n",
       "0       $4.02B  https://money.usnews.com/funds/mutual-funds/la...   \n",
       "1     $506.10M  https://money.usnews.com/funds/mutual-funds/la...   \n",
       "2     $389.56M  https://money.usnews.com/funds/mutual-funds/la...   \n",
       "3     $228.65M  https://money.usnews.com/funds/mutual-funds/la...   \n",
       "4       $7.89B  https://money.usnews.com/funds/mutual-funds/la...   \n",
       "\n",
       "                                  fund_name ticker expense_profile  \\\n",
       "0  T. Rowe Price Instl Large Cap Core Gr Fd  TPLGX   Below Average   \n",
       "1   T. Rowe Price Tax-Efficient Equity Fund  PREFX   Below Average   \n",
       "2        Morgan Stanley Inst Advantage Port  MAPPX         Average   \n",
       "3       William Blair Large Cap Growth Fund  LCGFX   Below Average   \n",
       "4                    Franklin DynaTech Fund    NaN             NaN   \n",
       "\n",
       "    risk_profile  \n",
       "0           High  \n",
       "1  Above Average  \n",
       "2           High  \n",
       "3           High  \n",
       "4            NaN  "
      ]
     },
     "execution_count": 134,
     "metadata": {},
     "output_type": "execute_result"
    }
   ],
   "source": [
    "full_funds = pd.concat([funds, funds_2], axis=1, sort=False)\n",
    "full_funds.head(20)\n",
    "full_funds.set_index('fund_name')\n",
    "full_funds.head()"
   ]
  },
  {
   "cell_type": "code",
   "execution_count": 136,
   "metadata": {},
   "outputs": [],
   "source": [
    "%matplotlib inline"
   ]
  },
  {
   "cell_type": "code",
   "execution_count": 139,
   "metadata": {
    "scrolled": true
   },
   "outputs": [
    {
     "data": {
      "text/plain": [
       "<matplotlib.axes._subplots.AxesSubplot at 0x29a4fda57f0>"
      ]
     },
     "execution_count": 139,
     "metadata": {},
     "output_type": "execute_result"
    },
    {
     "data": {
      "image/png": "[encoded data removed]",
      "text/plain": [
       "<Figure size 432x288 with 1 Axes>"
      ]
     },
     "metadata": {
      "needs_background": "light"
     },
     "output_type": "display_data"
    }
   ],
   "source": [
    "full_funds.plot.scatter('fund_rank', 'expense_ratio')"
   ]
  },
  {
   "cell_type": "code",
   "execution_count": 151,
   "metadata": {},
   "outputs": [
    {
     "ename": "AttributeError",
     "evalue": "Can only use .str accessor with string values, which use np.object_ dtype in pandas",
     "output_type": "error",
     "traceback": [
      "\u001b[1;31m---------------------------------------------------------------------------\u001b[0m",
      "\u001b[1;31mAttributeError\u001b[0m                            Traceback (most recent call last)",
      "\u001b[1;32m<ipython-input-151-857b364f4c3d>\u001b[0m in \u001b[0;36m<module>\u001b[1;34m\u001b[0m\n\u001b[1;32m----> 1\u001b[1;33m \u001b[0mfull_funds\u001b[0m\u001b[1;33m[\u001b[0m\u001b[1;34m'total_assets'\u001b[0m\u001b[1;33m]\u001b[0m \u001b[1;33m=\u001b[0m \u001b[0mfull_funds\u001b[0m\u001b[1;33m[\u001b[0m\u001b[1;34m'total_assets'\u001b[0m\u001b[1;33m]\u001b[0m\u001b[1;33m.\u001b[0m\u001b[0mstr\u001b[0m\u001b[1;33m.\u001b[0m\u001b[0mreplace\u001b[0m\u001b[1;33m(\u001b[0m\u001b[1;34m'$'\u001b[0m\u001b[1;33m,\u001b[0m\u001b[1;34m''\u001b[0m\u001b[1;33m)\u001b[0m\u001b[1;33m.\u001b[0m\u001b[0mstr\u001b[0m\u001b[1;33m.\u001b[0m\u001b[0mreplace\u001b[0m\u001b[1;33m(\u001b[0m\u001b[1;34m'B'\u001b[0m\u001b[1;33m,\u001b[0m\u001b[1;34m''\u001b[0m\u001b[1;33m)\u001b[0m\u001b[1;33m.\u001b[0m\u001b[0mstr\u001b[0m\u001b[1;33m.\u001b[0m\u001b[0mreplace\u001b[0m\u001b[1;33m(\u001b[0m\u001b[1;34m'M'\u001b[0m\u001b[1;33m,\u001b[0m\u001b[1;34m''\u001b[0m\u001b[1;33m)\u001b[0m\u001b[1;33m.\u001b[0m\u001b[0mastype\u001b[0m\u001b[1;33m(\u001b[0m\u001b[0mfloat\u001b[0m\u001b[1;33m)\u001b[0m\u001b[1;33m\u001b[0m\u001b[1;33m\u001b[0m\u001b[0m\n\u001b[0m\u001b[0;32m      2\u001b[0m \u001b[0mfull_funds\u001b[0m\u001b[1;33m[\u001b[0m\u001b[1;34m'total_assets'\u001b[0m\u001b[1;33m]\u001b[0m\u001b[1;33m.\u001b[0m\u001b[0mhead\u001b[0m\u001b[1;33m(\u001b[0m\u001b[1;33m)\u001b[0m\u001b[1;33m\u001b[0m\u001b[1;33m\u001b[0m\u001b[0m\n\u001b[0;32m      3\u001b[0m \u001b[1;33m\u001b[0m\u001b[0m\n",
      "\u001b[1;32m~\\Anaconda3\\lib\\site-packages\\pandas\\core\\generic.py\u001b[0m in \u001b[0;36m__getattr__\u001b[1;34m(self, name)\u001b[0m\n\u001b[0;32m   5061\u001b[0m         if (name in self._internal_names_set or name in self._metadata or\n\u001b[0;32m   5062\u001b[0m                 name in self._accessors):\n\u001b[1;32m-> 5063\u001b[1;33m             \u001b[1;32mreturn\u001b[0m \u001b[0mobject\u001b[0m\u001b[1;33m.\u001b[0m\u001b[0m__getattribute__\u001b[0m\u001b[1;33m(\u001b[0m\u001b[0mself\u001b[0m\u001b[1;33m,\u001b[0m \u001b[0mname\u001b[0m\u001b[1;33m)\u001b[0m\u001b[1;33m\u001b[0m\u001b[1;33m\u001b[0m\u001b[0m\n\u001b[0m\u001b[0;32m   5064\u001b[0m         \u001b[1;32melse\u001b[0m\u001b[1;33m:\u001b[0m\u001b[1;33m\u001b[0m\u001b[1;33m\u001b[0m\u001b[0m\n\u001b[0;32m   5065\u001b[0m             \u001b[1;32mif\u001b[0m \u001b[0mself\u001b[0m\u001b[1;33m.\u001b[0m\u001b[0m_info_axis\u001b[0m\u001b[1;33m.\u001b[0m\u001b[0m_can_hold_identifiers_and_holds_name\u001b[0m\u001b[1;33m(\u001b[0m\u001b[0mname\u001b[0m\u001b[1;33m)\u001b[0m\u001b[1;33m:\u001b[0m\u001b[1;33m\u001b[0m\u001b[1;33m\u001b[0m\u001b[0m\n",
      "\u001b[1;32m~\\Anaconda3\\lib\\site-packages\\pandas\\core\\accessor.py\u001b[0m in \u001b[0;36m__get__\u001b[1;34m(self, obj, cls)\u001b[0m\n\u001b[0;32m    169\u001b[0m             \u001b[1;31m# we're accessing the attribute of the class, i.e., Dataset.geo\u001b[0m\u001b[1;33m\u001b[0m\u001b[1;33m\u001b[0m\u001b[1;33m\u001b[0m\u001b[0m\n\u001b[0;32m    170\u001b[0m             \u001b[1;32mreturn\u001b[0m \u001b[0mself\u001b[0m\u001b[1;33m.\u001b[0m\u001b[0m_accessor\u001b[0m\u001b[1;33m\u001b[0m\u001b[1;33m\u001b[0m\u001b[0m\n\u001b[1;32m--> 171\u001b[1;33m         \u001b[0maccessor_obj\u001b[0m \u001b[1;33m=\u001b[0m \u001b[0mself\u001b[0m\u001b[1;33m.\u001b[0m\u001b[0m_accessor\u001b[0m\u001b[1;33m(\u001b[0m\u001b[0mobj\u001b[0m\u001b[1;33m)\u001b[0m\u001b[1;33m\u001b[0m\u001b[1;33m\u001b[0m\u001b[0m\n\u001b[0m\u001b[0;32m    172\u001b[0m         \u001b[1;31m# Replace the property with the accessor object. Inspired by:\u001b[0m\u001b[1;33m\u001b[0m\u001b[1;33m\u001b[0m\u001b[1;33m\u001b[0m\u001b[0m\n\u001b[0;32m    173\u001b[0m         \u001b[1;31m# http://www.pydanny.com/cached-property.html\u001b[0m\u001b[1;33m\u001b[0m\u001b[1;33m\u001b[0m\u001b[1;33m\u001b[0m\u001b[0m\n",
      "\u001b[1;32m~\\Anaconda3\\lib\\site-packages\\pandas\\core\\strings.py\u001b[0m in \u001b[0;36m__init__\u001b[1;34m(self, data)\u001b[0m\n\u001b[0;32m   1794\u001b[0m \u001b[1;33m\u001b[0m\u001b[0m\n\u001b[0;32m   1795\u001b[0m     \u001b[1;32mdef\u001b[0m \u001b[0m__init__\u001b[0m\u001b[1;33m(\u001b[0m\u001b[0mself\u001b[0m\u001b[1;33m,\u001b[0m \u001b[0mdata\u001b[0m\u001b[1;33m)\u001b[0m\u001b[1;33m:\u001b[0m\u001b[1;33m\u001b[0m\u001b[1;33m\u001b[0m\u001b[0m\n\u001b[1;32m-> 1796\u001b[1;33m         \u001b[0mself\u001b[0m\u001b[1;33m.\u001b[0m\u001b[0m_validate\u001b[0m\u001b[1;33m(\u001b[0m\u001b[0mdata\u001b[0m\u001b[1;33m)\u001b[0m\u001b[1;33m\u001b[0m\u001b[1;33m\u001b[0m\u001b[0m\n\u001b[0m\u001b[0;32m   1797\u001b[0m         \u001b[0mself\u001b[0m\u001b[1;33m.\u001b[0m\u001b[0m_is_categorical\u001b[0m \u001b[1;33m=\u001b[0m \u001b[0mis_categorical_dtype\u001b[0m\u001b[1;33m(\u001b[0m\u001b[0mdata\u001b[0m\u001b[1;33m)\u001b[0m\u001b[1;33m\u001b[0m\u001b[1;33m\u001b[0m\u001b[0m\n\u001b[0;32m   1798\u001b[0m \u001b[1;33m\u001b[0m\u001b[0m\n",
      "\u001b[1;32m~\\Anaconda3\\lib\\site-packages\\pandas\\core\\strings.py\u001b[0m in \u001b[0;36m_validate\u001b[1;34m(data)\u001b[0m\n\u001b[0;32m   1816\u001b[0m             \u001b[1;31m# (instead of test for object dtype), but that isn't practical for\u001b[0m\u001b[1;33m\u001b[0m\u001b[1;33m\u001b[0m\u001b[1;33m\u001b[0m\u001b[0m\n\u001b[0;32m   1817\u001b[0m             \u001b[1;31m# performance reasons until we have a str dtype (GH 9343)\u001b[0m\u001b[1;33m\u001b[0m\u001b[1;33m\u001b[0m\u001b[1;33m\u001b[0m\u001b[0m\n\u001b[1;32m-> 1818\u001b[1;33m             raise AttributeError(\"Can only use .str accessor with string \"\n\u001b[0m\u001b[0;32m   1819\u001b[0m                                  \u001b[1;34m\"values, which use np.object_ dtype in \"\u001b[0m\u001b[1;33m\u001b[0m\u001b[1;33m\u001b[0m\u001b[0m\n\u001b[0;32m   1820\u001b[0m                                  \"pandas\")\n",
      "\u001b[1;31mAttributeError\u001b[0m: Can only use .str accessor with string values, which use np.object_ dtype in pandas"
     ]
    }
   ],
   "source": [
    "full_funds['total_assets'] = full_funds['total_assets'].str.replace('$','').str.replace('B','').str.replace('M','').astype(float)\n",
    "full_funds['total_assets'].head()\n",
    "\n"
   ]
  },
  {
   "cell_type": "code",
   "execution_count": 154,
   "metadata": {},
   "outputs": [
    {
     "data": {
      "text/plain": [
       "0      4.02\n",
       "1    506.10\n",
       "2    389.56\n",
       "3    228.65\n",
       "4      7.89\n",
       "Name: total_assets, dtype: float64"
      ]
     },
     "execution_count": 154,
     "metadata": {},
     "output_type": "execute_result"
    }
   ],
   "source": [
    "full_funds['total_assets'].head()"
   ]
  },
  {
   "cell_type": "code",
   "execution_count": 170,
   "metadata": {},
   "outputs": [
    {
     "name": "stdout",
     "output_type": "stream",
     "text": [
      "0    4020.00\n",
      "1     506.10\n",
      "2     389.56\n",
      "3     228.65\n",
      "4    7890.00\n",
      "Name: total_assets, dtype: float64\n"
     ]
    }
   ],
   "source": [
    "full_funds.loc[full_funds['total_assets'] < 100.0, 'total_assets'] = full_funds['total_assets']*100\n",
    "print(full_funds['total_assets'].head())"
   ]
  },
  {
   "cell_type": "code",
   "execution_count": null,
   "metadata": {},
   "outputs": [],
   "source": [
    "full_funds['total_assets']"
   ]
  },
  {
   "cell_type": "code",
   "execution_count": 157,
   "metadata": {},
   "outputs": [
    {
     "data": {
      "text/plain": [
       "<matplotlib.axes._subplots.AxesSubplot at 0x29a50f3fa58>"
      ]
     },
     "execution_count": 157,
     "metadata": {},
     "output_type": "execute_result"
    },
    {
     "data": {
      "image/png": "[encoded data removed]",
      "text/plain": [
       "<Figure size 432x288 with 1 Axes>"
      ]
     },
     "metadata": {
      "needs_background": "light"
     },
     "output_type": "display_data"
    }
   ],
   "source": [
    "full_funds.groupby('expense_profile')['fund_rank'].mean().sort_values(ascending=False).plot.bar(color='b')"
   ]
  },
  {
   "cell_type": "code",
   "execution_count": 158,
   "metadata": {},
   "outputs": [
    {
     "data": {
      "text/plain": [
       "<matplotlib.axes._subplots.AxesSubplot at 0x29a51059080>"
      ]
     },
     "execution_count": 158,
     "metadata": {},
     "output_type": "execute_result"
    },
    {
     "data": {
      "image/png": "[encoded data removed]",
      "text/plain": [
       "<Figure size 432x288 with 1 Axes>"
      ]
     },
     "metadata": {
      "needs_background": "light"
     },
     "output_type": "display_data"
    }
   ],
   "source": [
    "full_funds.groupby('risk_profile')['fund_rank'].mean().sort_values(ascending=False).plot.bar(color='b')"
   ]
  },
  {
   "cell_type": "code",
   "execution_count": 171,
   "metadata": {},
   "outputs": [
    {
     "data": {
      "text/plain": [
       "<matplotlib.axes._subplots.AxesSubplot at 0x29a520b10f0>"
      ]
     },
     "execution_count": 171,
     "metadata": {},
     "output_type": "execute_result"
    },
    {
     "data": {
      "image/png": "[encoded data removed]",
      "text/plain": [
       "<Figure size 432x288 with 1 Axes>"
      ]
     },
     "metadata": {
      "needs_background": "light"
     },
     "output_type": "display_data"
    }
   ],
   "source": [
    "full_funds.plot.scatter('fund_rank', 'total_assets')"
   ]
  },
  {
   "cell_type": "code",
   "execution_count": 172,
   "metadata": {},
   "outputs": [
    {
     "data": {
      "text/plain": [
       "<matplotlib.axes._subplots.AxesSubplot at 0x29a520f4668>"
      ]
     },
     "execution_count": 172,
     "metadata": {},
     "output_type": "execute_result"
    },
    {
     "data": {
      "image/png": "[encoded data removed]",
      "text/plain": [
       "<Figure size 432x288 with 1 Axes>"
      ]
     },
     "metadata": {
      "needs_background": "light"
     },
     "output_type": "display_data"
    }
   ],
   "source": [
    "full_funds.groupby('risk_profile')['total_assets'].mean().sort_values(ascending=False).plot.bar(color='b')"
   ]
  },
  {
   "cell_type": "code",
   "execution_count": null,
   "metadata": {},
   "outputs": [],
   "source": []
  }
 ],
 "metadata": {
  "kernelspec": {
   "display_name": "Python 3",
   "language": "python",
   "name": "python3"
  },
  "language_info": {
   "codemirror_mode": {
    "name": "ipython",
    "version": 3
   },
   "file_extension": ".py",
   "mimetype": "text/x-python",
   "name": "python",
   "nbconvert_exporter": "python",
   "pygments_lexer": "ipython3",
   "version": "3.7.3"
  }
 },
 "nbformat": 4,
 "nbformat_minor": 2
}
